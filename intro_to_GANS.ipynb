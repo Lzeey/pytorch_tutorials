{
 "cells": [
  {
   "cell_type": "markdown",
   "metadata": {},
   "source": [
    "# Generative Adverserial Networks (GAN) example in PyTorch\n",
    "\n",
    "Source: https://github.com/devnag/pytorch-generative-adversarial-networks/blob/master/gan_pytorch.py"
   ]
  },
  {
   "cell_type": "code",
   "execution_count": 53,
   "metadata": {
    "collapsed": true
   },
   "outputs": [],
   "source": [
    "import numpy as np\n",
    "import torch\n",
    "import torch.nn as nn\n",
    "import torch.nn.functional as F\n",
    "import torch.optim as optim\n",
    "from torch.autograd import Variable\n",
    "\n",
    "%matplotlib inline\n",
    "import matplotlib.pyplot as plt\n",
    "import seaborn as sns\n",
    "sns.set()"
   ]
  },
  {
   "cell_type": "code",
   "execution_count": 2,
   "metadata": {
    "collapsed": true
   },
   "outputs": [],
   "source": [
    "# Data parameters\n",
    "data_mean = 4\n",
    "data_std = 1.5"
   ]
  },
  {
   "cell_type": "code",
   "execution_count": 21,
   "metadata": {
    "collapsed": true
   },
   "outputs": [],
   "source": [
    "#True distribution - Gaussian\n",
    "def get_distribution_sampler(mu, sigma):\n",
    "    return lambda m, n: torch.Tensor(np.random.normal(mu, sigma, (m, n)))\n",
    "\n",
    "#Uniform distribution generator. In practice, for others, we can generate a \n",
    "def get_generator_sampler():\n",
    "    return lambda m, n: torch.rand(m,n)"
   ]
  },
  {
   "cell_type": "code",
   "execution_count": 22,
   "metadata": {
    "collapsed": false
   },
   "outputs": [],
   "source": [
    "class Generator(nn.Module):\n",
    "    def __init__(self, input_size, hidden_size, output_size):\n",
    "        super(Generator, self).__init__()\n",
    "        self.dense1 = nn.Linear(input_size, hidden_size)\n",
    "        self.dense2 = nn.Linear(hidden_size, hidden_size)\n",
    "        self.dense3 = nn.Linear(hidden_size, output_size)\n",
    "        \n",
    "    def forward(self, x):\n",
    "        x = F.elu(self.dense1(x))\n",
    "        x = F.sigmoid(self.dense2(x))\n",
    "        return self.dense3(x)\n",
    "    \n",
    "class Discriminator(nn.Module):\n",
    "    def __init__(self, input_size, hidden_size, output_size):\n",
    "        super(Discriminator, self).__init__()\n",
    "        self.dense1 = nn.Linear(input_size, hidden_size)\n",
    "        self.dense2 = nn.Linear(hidden_size, hidden_size)\n",
    "        self.dense3 = nn.Linear(hidden_size, output_size)\n",
    "        \n",
    "    def forward(self, x):\n",
    "        x = F.elu(self.dense1(x))\n",
    "        x = F.elu(self.dense2(x))\n",
    "        return F.sigmoid(self.dense3(x))"
   ]
  },
  {
   "cell_type": "code",
   "execution_count": 48,
   "metadata": {
    "collapsed": true
   },
   "outputs": [],
   "source": [
    "# Model parameters\n",
    "g_input_size = 1     # Random noise dimension coming into generator, per output vector\n",
    "g_hidden_size = 50   # Generator complexity\n",
    "g_output_size = 1    # size of generated output vector\n",
    "d_input_size = 1   # \n",
    "d_hidden_size = 50   # Discriminator complexity\n",
    "d_output_size = 1    # Single dimension for 'real' vs. 'fake'\n",
    "minibatch_size = 256\n"
   ]
  },
  {
   "cell_type": "code",
   "execution_count": 50,
   "metadata": {
    "collapsed": true
   },
   "outputs": [],
   "source": [
    "#Training parameters\n",
    "d_learning_rate = 2e-4  # 2e-4\n",
    "g_learning_rate = 2e-4\n",
    "optim_betas = (0.9, 0.999)\n",
    "num_epochs = 1000\n",
    "print_interval = 200\n",
    "d_steps = 2  # 'k' steps in the original GAN paper. Can put the discriminator on higher training freq than generator\n",
    "g_steps = 1"
   ]
  },
  {
   "cell_type": "code",
   "execution_count": 35,
   "metadata": {
    "collapsed": false
   },
   "outputs": [
    {
     "data": {
      "text/plain": [
       "Discriminator (\n",
       "  (dense1): Linear (1 -> 50)\n",
       "  (dense2): Linear (50 -> 50)\n",
       "  (dense3): Linear (50 -> 1)\n",
       ")"
      ]
     },
     "execution_count": 35,
     "metadata": {},
     "output_type": "execute_result"
    }
   ],
   "source": [
    "d_sampler = get_distribution_sampler(data_mean, data_std)\n",
    "g_sampler = get_generator_sampler()\n",
    "G = Generator(g_input_size, g_hidden_size, g_output_size)\n",
    "D = Discriminator(d_input_size, d_hidden_size, d_output_size)\n",
    "criterion = nn.BCELoss() #Binary cross entropy\n",
    "d_opt = optim.Adam(D.parameters(), lr=d_learning_rate, betas=optim_betas)\n",
    "g_opt = optim.Adam(G.parameters(), lr=d_learning_rate, betas=optim_betas)\n",
    "\n",
    "G.cuda()\n",
    "D.cuda()"
   ]
  },
  {
   "cell_type": "code",
   "execution_count": 51,
   "metadata": {
    "collapsed": false
   },
   "outputs": [
    {
     "name": "stdout",
     "output_type": "stream",
     "text": [
      "0: D: 0.680/0.678 G: 0.711. G-data stats: 4.04, 1.34\n",
      "200: D: 0.685/0.683 G: 0.717. G-data stats: 4.07, 1.35\n",
      "400: D: 0.702/0.667 G: 0.718. G-data stats: 3.92, 1.45\n",
      "600: D: 0.669/0.694 G: 0.705. G-data stats: 3.87, 1.43\n",
      "800: D: 0.691/0.682 G: 0.700. G-data stats: 4.11, 1.36\n"
     ]
    }
   ],
   "source": [
    "for epoch in range(num_epochs):\n",
    "    #D Training loop\n",
    "    for _ in range(d_steps):\n",
    "        \n",
    "        #Train D here\n",
    "        D.zero_grad()\n",
    "        \n",
    "        real_data = Variable(d_sampler(minibatch_size, d_input_size)).cuda()\n",
    "        real_preds = D(real_data)\n",
    "        real_error = criterion(real_preds, Variable(torch.ones(minibatch_size)).cuda())\n",
    "        real_error.backward()\n",
    "        \n",
    "        fake_data = G(Variable(g_sampler(minibatch_size, g_input_size)).cuda()) #.detach()\n",
    "        fake_preds = D(fake_data)\n",
    "        fake_error = criterion(fake_preds, Variable(torch.zeros(minibatch_size)).cuda())\n",
    "        fake_error.backward()\n",
    "        \n",
    "        d_opt.step()\n",
    "        \n",
    "    for _ in range(g_steps):\n",
    "        G.zero_grad()\n",
    "        D.zero_grad()\n",
    "        #Train G here\n",
    "        fake_data = G(Variable(g_sampler(minibatch_size, g_input_size)).cuda())\n",
    "        fake_preds = D(fake_data)\n",
    "        g_error = criterion(fake_preds, Variable(torch.ones(minibatch_size)).cuda()) #Max error for discriminator\n",
    "        \n",
    "        g_error.backward()\n",
    "        g_opt.step() #Only optimize G\n",
    "        \n",
    "    if epoch % 200 == 0:\n",
    "        print(\"%s: D: %.3f/%.3f G: %.3f. G-data stats: %.2f, %.2f\" % (epoch,\n",
    "                                    real_error.data[0],\n",
    "                                    fake_error.data[0],\n",
    "                                    g_error.data[0],\n",
    "                                    fake_data.mean().data[0],\n",
    "                                    fake_data.std().data[0]))   \n",
    "        \n",
    "        "
   ]
  },
  {
   "cell_type": "code",
   "execution_count": 70,
   "metadata": {
    "collapsed": false
   },
   "outputs": [
    {
     "data": {
      "image/png": "[encoded data removed]",
      "text/plain": [
       "<matplotlib.figure.Figure at 0x7f69580324e0>"
      ]
     },
     "metadata": {},
     "output_type": "display_data"
    }
   ],
   "source": [
    "#Lets perform some further analysis on the data generated\n",
    "\n",
    "samples = 1024\n",
    "bins = 30\n",
    "real_samples = d_sampler(minibatch_size, d_input_size).numpy().flatten()\n",
    "gen_samples = G(Variable(g_sampler(minibatch_size, g_input_size)).cuda()).data.cpu().numpy().flatten()\n",
    "\n",
    "plt.figure(figsize=(12,8))\n",
    "plt.hist(real_samples, bins, normed=True, alpha=0.8, label='real')\n",
    "plt.hist(gen_samples, bins, normed=True, alpha=0.8, label='gen')\n",
    "plt.legend(loc='upper right')\n",
    "plt.show()"
   ]
  }
 ],
 "metadata": {
  "kernelspec": {
   "display_name": "Python [conda env:python35]",
   "language": "python",
   "name": "conda-env-python35-py"
  },
  "language_info": {
   "codemirror_mode": {
    "name": "ipython",
    "version": 3
   },
   "file_extension": ".py",
   "mimetype": "text/x-python",
   "name": "python",
   "nbconvert_exporter": "python",
   "pygments_lexer": "ipython3",
   "version": "3.5.3"
  }
 },
 "nbformat": 4,
 "nbformat_minor": 2
}
